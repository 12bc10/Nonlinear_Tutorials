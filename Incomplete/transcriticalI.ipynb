{
  "nbformat": 4,
  "nbformat_minor": 0,
  "metadata": {
    "colab": {
      "name": "transcriticalI.ipynb",
      "provenance": []
    },
    "kernelspec": {
      "name": "python3",
      "display_name": "Python 3"
    }
  },
  "cells": [
    {
      "cell_type": "code",
      "metadata": {
        "id": "Wn3y-FEzSSOA",
        "colab_type": "code",
        "colab": {}
      },
      "source": [
        "import numpy as np\n",
        "import matplotlib.pyplot as plt\n",
        "\n",
        "x = np.linspace(-4,4)\n"
      ],
      "execution_count": 0,
      "outputs": []
    },
    {
      "cell_type": "code",
      "metadata": {
        "id": "L-u_Fx4_SWf1",
        "colab_type": "code",
        "colab": {}
      },
      "source": [
        "def normalForm(r, x):\n",
        "    return\n"
      ],
      "execution_count": 0,
      "outputs": []
    },
    {
      "cell_type": "code",
      "metadata": {
        "id": "ukJ2PAyESXmK",
        "colab_type": "code",
        "colab": {}
      },
      "source": [
        "def getZeros(r):\n",
        "    if r < 0:\n",
        "        return np.array([r, 0])\n",
        "    else:\n",
        "        return np.array([0,r])\n"
      ],
      "execution_count": 0,
      "outputs": []
    },
    {
      "cell_type": "code",
      "metadata": {
        "id": "8N4uK0n4SacA",
        "colab_type": "code",
        "colab": {}
      },
      "source": [
        "r = -3\n",
        "x_hat = normalForm(r,x)\n",
        "zeros = getZeros(r)\n",
        "\n",
        "fig, ax = plt.subplots(1,1)\n",
        "ax.plot(x, x_hat, 'k')\n",
        "ax.spines['left'].set_position(('data', 0))\n",
        "ax.spines['bottom'].set_position(('data', 0))\n",
        "ax.spines['top'].set_visible(False)\n",
        "ax.spines['right'].set_visible(False)\n",
        "\n",
        "unstable = plt.Circle([zeros[0], 0], 0.5, color='r', fill=False)\n",
        "ax.add_artist(unstable)\n",
        "\n",
        "stable = plt.Circle([zeros[1], 0], 0.5, color='r')\n",
        "ax.add_artist(stable)\n"
      ],
      "execution_count": 0,
      "outputs": []
    },
    {
      "cell_type": "markdown",
      "metadata": {
        "id": "9dSbCrEySbdp",
        "colab_type": "text"
      },
      "source": [
        "Question 1: Plot the fixed points for r = 0 and r>0. Classify as stable, unstable, or half-stable.\n",
        "\n",
        "Jump ahead? Do the same analysis for the normal form of the pitchfork bifurcation: \n",
        "supercritical: r*x-x^3\n",
        "subcritical: r*x+x^3\n"
      ]
    }
  ]
}