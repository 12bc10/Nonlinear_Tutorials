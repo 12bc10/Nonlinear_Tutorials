{
  "nbformat": 4,
  "nbformat_minor": 0,
  "metadata": {
    "colab": {
      "name": "saddleI.ipynb",
      "provenance": []
    },
    "kernelspec": {
      "name": "python3",
      "display_name": "Python 3"
    }
  },
  "cells": [
    {
      "cell_type": "code",
      "metadata": {
        "id": "XWuYpH3DR0dV",
        "colab_type": "code",
        "colab": {}
      },
      "source": [
        "import numpy as np\n",
        "import matplotlib.pyplot as plt\n",
        "\n",
        "x = np.linspace(-2,2)\n"
      ],
      "execution_count": 0,
      "outputs": []
    },
    {
      "cell_type": "code",
      "metadata": {
        "id": "FUVW2S21R6Lk",
        "colab_type": "code",
        "colab": {}
      },
      "source": [
        "def normalForm(r, x):\n",
        "    return \n"
      ],
      "execution_count": 0,
      "outputs": []
    },
    {
      "cell_type": "code",
      "metadata": {
        "id": "d9kGo7loR-J6",
        "colab_type": "code",
        "colab": {}
      },
      "source": [
        "x_hat = normalForm(-2,x)\n",
        "\n",
        "fig, ax = plt.subplots(1,1)\n",
        "ax.plot(x, x_hat, 'k')\n",
        "ax.spines['left'].set_position(('data', 0))\n",
        "ax.spines['bottom'].set_position(('data', 0))\n",
        "ax.spines['top'].set_visible(False)\n",
        "ax.spines['right'].set_visible(False)\n",
        "stable = plt.Circle((-np.sqrt(2),0), 0.08, color='r')\n",
        "ax.add_artist(stable)\n",
        "unstable = plt.Circle((np.sqrt(2),0), 0.08, color='r', fill=False)\n",
        "ax.add_artist(unstable)\n"
      ],
      "execution_count": 0,
      "outputs": []
    },
    {
      "cell_type": "markdown",
      "metadata": {
        "id": "um9yl2YASAPb",
        "colab_type": "text"
      },
      "source": [
        "## Question 1: what values of r make a graph with no fixed points\n",
        "\n",
        "## Question 2: What happens to the fixed point when r = 0?\n",
        "\n"
      ]
    }
  ]
}