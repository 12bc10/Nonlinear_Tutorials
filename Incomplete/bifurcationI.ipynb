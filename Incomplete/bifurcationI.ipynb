{
  "nbformat": 4,
  "nbformat_minor": 0,
  "metadata": {
    "colab": {
      "name": "bifurcation.ipynb",
      "provenance": [],
      "collapsed_sections": []
    },
    "kernelspec": {
      "name": "python3",
      "display_name": "Python 3"
    }
  },
  "cells": [
    {
      "cell_type": "code",
      "metadata": {
        "id": "r7TVQ03CRRnE",
        "colab_type": "code",
        "colab": {}
      },
      "source": [
        "import numpy as np\n",
        "import matplotlib.pyplot as plt\n"
      ],
      "execution_count": 0,
      "outputs": []
    },
    {
      "cell_type": "code",
      "metadata": {
        "id": "S-Zn7k4bRUaf",
        "colab_type": "code",
        "colab": {}
      },
      "source": [
        "def logistic(r, x):\n",
        "    return r * x * (1-x)\n"
      ],
      "execution_count": 0,
      "outputs": []
    },
    {
      "cell_type": "code",
      "metadata": {
        "id": "Ts13vpMVRV-r",
        "colab_type": "code",
        "colab": {}
      },
      "source": [
        "x = np.linspace(0,1)\n",
        "fig, ax = plt.subplots(1,1)\n",
        "ax.plot(x, logistic(2,x), 'k')\n"
      ],
      "execution_count": 0,
      "outputs": []
    },
    {
      "cell_type": "code",
      "metadata": {
        "id": "ryeHgqH7c2dI",
        "colab_type": "code",
        "colab": {
          "base_uri": "https://localhost:8080/",
          "height": 367
        },
        "outputId": "89ee66f5-aeee-41ec-d779-afa47f7d5729"
      },
      "source": [
        "def logistic_equation_orbit(x0, r, n_iter, n_skip=0):\n",
        "    print('Orbit for seed {0}, growth rate of {1}, plotting {2} iterations after skipping {3}'.format(seed, r, n_iter, n_skip))\n",
        "    X_t=[]\n",
        "    T=[]\n",
        "    t=0\n",
        "    x = x0;\n",
        "    # Iterate the logistic equation, printing only if n_skip steps have been skipped\n",
        "    for i in range(n_iter + n_skip):\n",
        "        if i >= n_skip:\n",
        "            X_t.append(x)\n",
        "            T.append(t)\n",
        "            t+=1\n",
        "        x = logistic(r,x);\n",
        "    # Configure and decorate the plot\n",
        "    plt.plot(T, X_t)\n",
        "    plt.ylim(0, 1)\n",
        "    plt.xlim(0, T[-1])\n",
        "    plt.xlabel('Time t')\n",
        "    plt.ylabel('X_t')\n",
        "    plt.show()\n",
        "\n",
        "\n",
        "logistic_equation_orbit(0.1, 2.5, 100)\n"
      ],
      "execution_count": 1,
      "outputs": [
        {
          "output_type": "stream",
          "text": [
            "Orbit for seed 0.1, growth rate of 2.5, plotting 100 iterations after skipping 0\n"
          ],
          "name": "stdout"
        },
        {
          "output_type": "error",
          "ename": "NameError",
          "evalue": "ignored",
          "traceback": [
            "\u001b[0;31m---------------------------------------------------------------------------\u001b[0m",
            "\u001b[0;31mNameError\u001b[0m                                 Traceback (most recent call last)",
            "\u001b[0;32m<ipython-input-1-a3d139d8f86f>\u001b[0m in \u001b[0;36m<module>\u001b[0;34m()\u001b[0m\n\u001b[1;32m     21\u001b[0m \u001b[0;34m\u001b[0m\u001b[0m\n\u001b[1;32m     22\u001b[0m \u001b[0;34m\u001b[0m\u001b[0m\n\u001b[0;32m---> 23\u001b[0;31m \u001b[0mlogistic_equation_orbit\u001b[0m\u001b[0;34m(\u001b[0m\u001b[0;36m0.1\u001b[0m\u001b[0;34m,\u001b[0m \u001b[0;36m2.5\u001b[0m\u001b[0;34m,\u001b[0m \u001b[0;36m100\u001b[0m\u001b[0;34m)\u001b[0m\u001b[0;34m\u001b[0m\u001b[0;34m\u001b[0m\u001b[0m\n\u001b[0m\u001b[1;32m     24\u001b[0m \u001b[0mlogistic_equation_orbit\u001b[0m\u001b[0;34m(\u001b[0m\u001b[0;36m0.1\u001b[0m\u001b[0;34m,\u001b[0m \u001b[0;36m3.2\u001b[0m\u001b[0;34m,\u001b[0m \u001b[0;36m100\u001b[0m\u001b[0;34m)\u001b[0m\u001b[0;34m\u001b[0m\u001b[0;34m\u001b[0m\u001b[0m\n\u001b[1;32m     25\u001b[0m \u001b[0mlogistic_equation_orbit\u001b[0m\u001b[0;34m(\u001b[0m\u001b[0;36m0.1\u001b[0m\u001b[0;34m,\u001b[0m \u001b[0;36m3.8\u001b[0m\u001b[0;34m,\u001b[0m \u001b[0;36m100\u001b[0m\u001b[0;34m)\u001b[0m\u001b[0;34m\u001b[0m\u001b[0;34m\u001b[0m\u001b[0m\n",
            "\u001b[0;32m<ipython-input-1-a3d139d8f86f>\u001b[0m in \u001b[0;36mlogistic_equation_orbit\u001b[0;34m(seed, r, n_iter, n_skip)\u001b[0m\n\u001b[1;32m     11\u001b[0m             \u001b[0mT\u001b[0m\u001b[0;34m.\u001b[0m\u001b[0mappend\u001b[0m\u001b[0;34m(\u001b[0m\u001b[0mt\u001b[0m\u001b[0;34m)\u001b[0m\u001b[0;34m\u001b[0m\u001b[0;34m\u001b[0m\u001b[0m\n\u001b[1;32m     12\u001b[0m             \u001b[0mt\u001b[0m\u001b[0;34m+=\u001b[0m\u001b[0;36m1\u001b[0m\u001b[0;34m\u001b[0m\u001b[0;34m\u001b[0m\u001b[0m\n\u001b[0;32m---> 13\u001b[0;31m         \u001b[0mx\u001b[0m \u001b[0;34m=\u001b[0m \u001b[0mlogistic\u001b[0m\u001b[0;34m(\u001b[0m\u001b[0mr\u001b[0m\u001b[0;34m,\u001b[0m\u001b[0mx\u001b[0m\u001b[0;34m)\u001b[0m\u001b[0;34m;\u001b[0m\u001b[0;34m\u001b[0m\u001b[0;34m\u001b[0m\u001b[0m\n\u001b[0m\u001b[1;32m     14\u001b[0m     \u001b[0;31m# Configure and decorate the plot\u001b[0m\u001b[0;34m\u001b[0m\u001b[0;34m\u001b[0m\u001b[0;34m\u001b[0m\u001b[0m\n\u001b[1;32m     15\u001b[0m     \u001b[0mplt\u001b[0m\u001b[0;34m.\u001b[0m\u001b[0mplot\u001b[0m\u001b[0;34m(\u001b[0m\u001b[0mT\u001b[0m\u001b[0;34m,\u001b[0m \u001b[0mX_t\u001b[0m\u001b[0;34m)\u001b[0m\u001b[0;34m\u001b[0m\u001b[0;34m\u001b[0m\u001b[0m\n",
            "\u001b[0;31mNameError\u001b[0m: name 'logistic' is not defined"
          ]
        }
      ]
    },
    {
      "cell_type": "markdown",
      "metadata": {
        "id": "CLxU09G1dPb5",
        "colab_type": "text"
      },
      "source": [
        "What happens for r = 3.2? \n",
        "r = 3.8?"
      ]
    },
    {
      "cell_type": "code",
      "metadata": {
        "id": "obLeHJLqRZj0",
        "colab_type": "code",
        "colab": {}
      },
      "source": [
        "def plot_system(r, x0, n, ax=None):\n",
        "    # Plot the function and the\n",
        "    # y=x diagonal line.\n",
        "    t = np.linspace(0, 1)\n",
        "    ax.plot(t, logistic(r, t), 'k', lw=2)\n",
        "    ax.plot([0, 1], [0, 1], 'k', lw=2)\n",
        "\n",
        "    # Recursively apply y=f(x) and plot two lines:\n",
        "    # (x, x) -> (x, y)\n",
        "    # (x, y) -> (y, y)\n",
        "    x = x0\n",
        "    for i in range(n):\n",
        "        # generate value for y given x and r\n",
        "        \n",
        "        \n",
        "        # Plot the two lines.\n",
        "\n",
        "        # Set x to new y\n",
        "\n",
        "    ax.set_xlim(0, 1)\n",
        "    ax.set_ylim(0, 1)\n",
        "    ax.set_title(f\"$r={r:.1f}, \\, x_0={x0:.1f}$\")\n"
      ],
      "execution_count": 0,
      "outputs": []
    },
    {
      "cell_type": "code",
      "metadata": {
        "id": "5wOxbU5aRcj6",
        "colab_type": "code",
        "colab": {}
      },
      "source": [
        "\n",
        "fig, (ax1, ax2) = plt.subplots(1, 2, figsize=(12, 6),\n",
        "                               sharey=True)\n",
        "plot_system(__, ___, ___, ax=ax1)\n",
        "plot_system(___, ___, ___,ax=ax2)\n"
      ],
      "execution_count": 0,
      "outputs": []
    },
    {
      "cell_type": "code",
      "metadata": {
        "id": "1NimqKRwReQM",
        "colab_type": "code",
        "colab": {}
      },
      "source": [
        "\n",
        "## Bifurcation Diagram\n",
        "n = 10000\n",
        "r = np.linspace(2.5, 4.0, n)\n",
        "iterations = 1000\n",
        "last = 100\n",
        "x = 1e-5 * np.ones(n)\n",
        "fig, (ax1, ax2) = plt.subplots(2, 1, figsize=(8, 9),\n",
        "                               sharex=True)\n",
        "for i in range(iterations):\n",
        "    x = logistic(r, x)\n",
        "    \n",
        "    # Throw out line: \n",
        "    if i >= \n",
        "        ax1.plot(r, x, ',k', alpha=.25)\n",
        "ax1.set_xlim(2.5, 4)\n",
        "ax1.set_title(\"Bifurcation diagram\")\n"
      ],
      "execution_count": 0,
      "outputs": []
    },
    {
      "cell_type": "code",
      "metadata": {
        "id": "hAyd8sZ2RiT3",
        "colab_type": "code",
        "colab": {}
      },
      "source": [
        "## Plot Lyapunov Exponent\n",
        "lyapunov = np.zeros(n)\n",
        "for i in range(iterations):\n",
        "        x = logistic(r, x)\n",
        "        # Add lyapunov exponent to iteration\n",
        "        # Derivative of lgotisc function is r-2rx\n",
        "        lyapunov += \n",
        "    \n",
        "# We display the Lyapunov exponent.\n",
        "# Horizontal line.\n",
        "ax2.axhline(0, color='k', lw=.5, alpha=.5)\n",
        "# Negative Lyapunov exponent.\n",
        "ax2.plot(r[lyapunov < 0],\n",
        "         lyapunov[lyapunov < 0] / iterations,\n",
        "         '.k', alpha=.5, ms=.5)\n",
        "# Positive Lyapunov exponent.\n",
        "ax2.plot(r[lyapunov >= 0],\n",
        "         lyapunov[lyapunov >= 0] / iterations,\n",
        "         '.r', alpha=.5, ms=.5)\n",
        "ax2.set_xlim(2.5, 4)\n",
        "ax2.set_ylim(-2, 1)\n",
        "ax2.set_title(\"Lyapunov exponent\")\n",
        "plt.tight_layout()"
      ],
      "execution_count": 0,
      "outputs": []
    }
  ]
}