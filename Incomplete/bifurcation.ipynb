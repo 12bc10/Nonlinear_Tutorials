{
  "nbformat": 4,
  "nbformat_minor": 0,
  "metadata": {
    "colab": {
      "name": "bifurcation.ipynb",
      "provenance": [],
      "collapsed_sections": []
    },
    "kernelspec": {
      "name": "python3",
      "display_name": "Python 3"
    }
  },
  "cells": [
    {
      "cell_type": "code",
      "metadata": {
        "id": "r7TVQ03CRRnE",
        "colab_type": "code",
        "colab": {}
      },
      "source": [
        "import numpy as np\n",
        "import matplotlib.pyplot as plt\n"
      ],
      "execution_count": 0,
      "outputs": []
    },
    {
      "cell_type": "code",
      "metadata": {
        "id": "S-Zn7k4bRUaf",
        "colab_type": "code",
        "colab": {}
      },
      "source": [
        "def logistic(r, x):\n",
        "    return r * x * (1-x)\n"
      ],
      "execution_count": 0,
      "outputs": []
    },
    {
      "cell_type": "code",
      "metadata": {
        "id": "Ts13vpMVRV-r",
        "colab_type": "code",
        "colab": {}
      },
      "source": [
        "x = np.linspace(0,1)\n",
        "fig, ax = plt.subplots(1,1)\n",
        "ax.plot(x, logistic(2,x), 'k')\n"
      ],
      "execution_count": 0,
      "outputs": []
    },
    {
      "cell_type": "code",
      "metadata": {
        "id": "obLeHJLqRZj0",
        "colab_type": "code",
        "colab": {}
      },
      "source": [
        "def plot_system(r, x0, n, ax=None):\n",
        "    # Plot the function and the\n",
        "    # y=x diagonal line.\n",
        "    t = np.linspace(0, 1)\n",
        "    ax.plot(t, logistic(r, t), 'k', lw=2)\n",
        "    ax.plot([0, 1], [0, 1], 'k', lw=2)\n",
        "\n",
        "    # Recursively apply y=f(x) and plot two lines:\n",
        "    # (x, x) -> (x, y)\n",
        "    # (x, y) -> (y, y)\n",
        "    x = x0\n",
        "    for i in range(n):\n",
        "        # generate value for y given x and r\n",
        "        \n",
        "        \n",
        "        # Plot the two lines.\n",
        "\n",
        "        # Set x to new y\n",
        "\n",
        "    ax.set_xlim(0, 1)\n",
        "    ax.set_ylim(0, 1)\n",
        "    ax.set_title(f\"$r={r:.1f}, \\, x_0={x0:.1f}$\")\n"
      ],
      "execution_count": 0,
      "outputs": []
    },
    {
      "cell_type": "code",
      "metadata": {
        "id": "5wOxbU5aRcj6",
        "colab_type": "code",
        "colab": {}
      },
      "source": [
        "\n",
        "fig, (ax1, ax2) = plt.subplots(1, 2, figsize=(12, 6),\n",
        "                               sharey=True)\n",
        "plot_system(__, ___, ___, ax=ax1)\n",
        "plot_system(___, ___, ___,ax=ax2)\n"
      ],
      "execution_count": 0,
      "outputs": []
    },
    {
      "cell_type": "code",
      "metadata": {
        "id": "1NimqKRwReQM",
        "colab_type": "code",
        "colab": {}
      },
      "source": [
        "\n",
        "## Bifurcation Diagram\n",
        "n = 10000\n",
        "r = np.linspace(2.5, 4.0, n)\n",
        "iterations = 1000\n",
        "last = 100\n",
        "x = 1e-5 * np.ones(n)\n",
        "fig, (ax1, ax2) = plt.subplots(2, 1, figsize=(8, 9),\n",
        "                               sharex=True)\n",
        "for i in range(iterations):\n",
        "    x = logistic(r, x)\n",
        "    \n",
        "    # Throw out line: \n",
        "    if i >= \n",
        "        ax1.plot(r, x, ',k', alpha=.25)\n",
        "ax1.set_xlim(2.5, 4)\n",
        "ax1.set_title(\"Bifurcation diagram\")\n"
      ],
      "execution_count": 0,
      "outputs": []
    },
    {
      "cell_type": "code",
      "metadata": {
        "id": "hAyd8sZ2RiT3",
        "colab_type": "code",
        "colab": {}
      },
      "source": [
        "## Plot Lyapunov Exponent\n",
        "lyapunov = np.zeros(n)\n",
        "for i in range(iterations):\n",
        "        x = logistic(r, x)\n",
        "        # Add lyapunov exponent to iteration\n",
        "        # Derivative of lgotisc function is r-2rx\n",
        "        lyapunov += \n",
        "    \n",
        "# We display the Lyapunov exponent.\n",
        "# Horizontal line.\n",
        "ax2.axhline(0, color='k', lw=.5, alpha=.5)\n",
        "# Negative Lyapunov exponent.\n",
        "ax2.plot(r[lyapunov < 0],\n",
        "         lyapunov[lyapunov < 0] / iterations,\n",
        "         '.k', alpha=.5, ms=.5)\n",
        "# Positive Lyapunov exponent.\n",
        "ax2.plot(r[lyapunov >= 0],\n",
        "         lyapunov[lyapunov >= 0] / iterations,\n",
        "         '.r', alpha=.5, ms=.5)\n",
        "ax2.set_xlim(2.5, 4)\n",
        "ax2.set_ylim(-2, 1)\n",
        "ax2.set_title(\"Lyapunov exponent\")\n",
        "plt.tight_layout()"
      ],
      "execution_count": 0,
      "outputs": []
    }
  ]
}